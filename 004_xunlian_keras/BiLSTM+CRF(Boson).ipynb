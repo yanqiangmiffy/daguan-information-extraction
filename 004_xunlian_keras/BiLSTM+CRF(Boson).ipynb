{
 "cells": [
  {
   "cell_type": "code",
   "execution_count": 88,
   "metadata": {
    "ExecuteTime": {
     "end_time": "2019-05-18T12:20:18.161933Z",
     "start_time": "2019-05-18T12:20:18.153944Z"
    }
   },
   "outputs": [],
   "source": [
    "import pickle\n",
    "import pdb\n",
    "import codecs\n",
    "import re\n",
    "import sys\n",
    "import math\n",
    "import numpy as np"
   ]
  },
  {
   "cell_type": "code",
   "execution_count": 89,
   "metadata": {
    "ExecuteTime": {
     "end_time": "2019-05-18T12:20:19.341087Z",
     "start_time": "2019-05-18T12:20:19.292630Z"
    }
   },
   "outputs": [
    {
     "name": "stdout",
     "output_type": "stream",
     "text": [
      "train len: 10721\n",
      "valid len: 2681\n",
      "test len: 3351\n",
      "word2id len 3435\n",
      "Creating the data generator ...\n"
     ]
    }
   ],
   "source": [
    "with open('../Bosondata.pkl', 'rb') as inp:\n",
    "\tword2id = pickle.load(inp)\n",
    "\tid2word = pickle.load(inp)\n",
    "\ttag2id = pickle.load(inp)\n",
    "\tid2tag = pickle.load(inp)\n",
    "\tx_train = pickle.load(inp)\n",
    "\ty_train = pickle.load(inp)\n",
    "\tx_test = pickle.load(inp)\n",
    "\ty_test = pickle.load(inp)\n",
    "\tx_valid = pickle.load(inp)\n",
    "\ty_valid = pickle.load(inp)\n",
    "print(\"train len:\",len(x_train))\n",
    "print(\"valid len:\",len(x_valid))\n",
    "print(\"test len:\",len(x_test))\n",
    "print(\"word2id len\", len(word2id))\n",
    "print('Creating the data generator ...')"
   ]
  },
  {
   "cell_type": "code",
   "execution_count": 90,
   "metadata": {
    "ExecuteTime": {
     "end_time": "2019-05-18T12:20:20.266168Z",
     "start_time": "2019-05-18T12:20:20.255607Z"
    }
   },
   "outputs": [],
   "source": [
    "y_train = np.expand_dims(y_train , 2)\n",
    "y_valid = np.expand_dims(y_valid , 2)\n",
    "y_test = np.expand_dims(y_test , 2)"
   ]
  },
  {
   "cell_type": "code",
   "execution_count": 91,
   "metadata": {
    "ExecuteTime": {
     "end_time": "2019-05-18T12:20:21.089444Z",
     "start_time": "2019-05-18T12:20:21.081431Z"
    }
   },
   "outputs": [
    {
     "data": {
      "text/plain": [
       "((10721, 60), (10721, 60, 1))"
      ]
     },
     "execution_count": 91,
     "metadata": {},
     "output_type": "execute_result"
    }
   ],
   "source": [
    "x_train.shape , y_train.shape"
   ]
  },
  {
   "cell_type": "code",
   "execution_count": 92,
   "metadata": {
    "ExecuteTime": {
     "end_time": "2019-05-18T12:20:21.970843Z",
     "start_time": "2019-05-18T12:20:21.946896Z"
    }
   },
   "outputs": [],
   "source": [
    "from keras.models import Sequential\n",
    "from keras.layers import Embedding, Bidirectional, LSTM\n",
    "from keras_contrib.layers import CRF\n",
    "import pickle\n",
    "\n",
    "EMBED_DIM = 200 # 词向量的维度\n",
    "BiRNN_UNITS = 200"
   ]
  },
  {
   "cell_type": "code",
   "execution_count": 93,
   "metadata": {
    "ExecuteTime": {
     "end_time": "2019-05-18T12:20:27.758827Z",
     "start_time": "2019-05-18T12:20:22.760035Z"
    }
   },
   "outputs": [
    {
     "name": "stdout",
     "output_type": "stream",
     "text": [
      "_________________________________________________________________\n",
      "Layer (type)                 Output Shape              Param #   \n",
      "=================================================================\n",
      "embedding_3 (Embedding)      (None, None, 200)         687000    \n",
      "_________________________________________________________________\n",
      "bidirectional_3 (Bidirection (None, None, 200)         240800    \n",
      "_________________________________________________________________\n",
      "crf_3 (CRF)                  (None, None, 20)          4460      \n",
      "=================================================================\n",
      "Total params: 932,260\n",
      "Trainable params: 932,260\n",
      "Non-trainable params: 0\n",
      "_________________________________________________________________\n"
     ]
    },
    {
     "name": "stderr",
     "output_type": "stream",
     "text": [
      "D:\\Anaconda\\envs\\tfenv\\lib\\site-packages\\keras_contrib\\layers\\crf.py:346: UserWarning: CRF.loss_function is deprecated and it might be removed in the future. Please use losses.crf_loss instead.\n",
      "  warnings.warn('CRF.loss_function is deprecated '\n",
      "D:\\Anaconda\\envs\\tfenv\\lib\\site-packages\\keras_contrib\\layers\\crf.py:353: UserWarning: CRF.accuracy is deprecated and it might be removed in the future. Please use metrics.crf_accuracy\n",
      "  warnings.warn('CRF.accuracy is deprecated and it '\n"
     ]
    }
   ],
   "source": [
    "model = Sequential()\n",
    "model.add(Embedding(len(word2id), EMBED_DIM, mask_zero=True))  # Random embedding\n",
    "model.add(Bidirectional(LSTM(BiRNN_UNITS // 2, return_sequences=True)))\n",
    "crf = CRF(len(tag2id), sparse_target=True)\n",
    "model.add(crf)\n",
    "model.summary()\n",
    "model.compile('adam', loss=crf.loss_function, metrics=[crf.accuracy])"
   ]
  },
  {
   "cell_type": "code",
   "execution_count": 94,
   "metadata": {
    "ExecuteTime": {
     "end_time": "2019-05-18T12:38:57.037731Z",
     "start_time": "2019-05-18T12:20:28.113657Z"
    }
   },
   "outputs": [
    {
     "name": "stdout",
     "output_type": "stream",
     "text": [
      "Train on 10721 samples, validate on 2681 samples\n",
      "Epoch 1/10\n",
      "10721/10721 [==============================] - 150s 14ms/step - loss: 17.4071 - crf_viterbi_accuracy: 0.7368 - val_loss: 17.1719 - val_crf_viterbi_accuracy: 0.8266\n",
      "Epoch 2/10\n",
      "10721/10721 [==============================] - 109s 10ms/step - loss: 16.7614 - crf_viterbi_accuracy: 0.8566 - val_loss: 17.0099 - val_crf_viterbi_accuracy: 0.8589\n",
      "Epoch 3/10\n",
      "10721/10721 [==============================] - 114s 11ms/step - loss: 16.6213 - crf_viterbi_accuracy: 0.8926 - val_loss: 16.9561 - val_crf_viterbi_accuracy: 0.8636\n",
      "Epoch 4/10\n",
      "10721/10721 [==============================] - 127s 12ms/step - loss: 16.5539 - crf_viterbi_accuracy: 0.9102 - val_loss: 16.9291 - val_crf_viterbi_accuracy: 0.8750\n",
      "Epoch 5/10\n",
      "10721/10721 [==============================] - 106s 10ms/step - loss: 16.5147 - crf_viterbi_accuracy: 0.9276 - val_loss: 16.9172 - val_crf_viterbi_accuracy: 0.8759\n",
      "Epoch 6/10\n",
      "10721/10721 [==============================] - 98s 9ms/step - loss: 16.4868 - crf_viterbi_accuracy: 0.9404 - val_loss: 16.9060 - val_crf_viterbi_accuracy: 0.8805\n",
      "Epoch 7/10\n",
      "10721/10721 [==============================] - 102s 10ms/step - loss: 16.4693 - crf_viterbi_accuracy: 0.9507 - val_loss: 16.9151 - val_crf_viterbi_accuracy: 0.8748\n",
      "Epoch 8/10\n",
      "10721/10721 [==============================] - 99s 9ms/step - loss: 16.4561 - crf_viterbi_accuracy: 0.9582 - val_loss: 16.9132 - val_crf_viterbi_accuracy: 0.8805\n",
      "Epoch 9/10\n",
      "10721/10721 [==============================] - 98s 9ms/step - loss: 16.4446 - crf_viterbi_accuracy: 0.9660 - val_loss: 16.9182 - val_crf_viterbi_accuracy: 0.8777\n",
      "Epoch 10/10\n",
      "10721/10721 [==============================] - 98s 9ms/step - loss: 16.4359 - crf_viterbi_accuracy: 0.9741 - val_loss: 16.9226 - val_crf_viterbi_accuracy: 0.8806\n"
     ]
    }
   ],
   "source": [
    "EPOCHS = 10\n",
    "# train model\n",
    "model.fit(x_train , y_train , batch_size=16 , epochs=EPOCHS , validation_data=[x_valid, y_valid])\n",
    "model.save('./crf_Boson.h5')"
   ]
  },
  {
   "cell_type": "code",
   "execution_count": 96,
   "metadata": {
    "ExecuteTime": {
     "end_time": "2019-05-18T12:44:43.838574Z",
     "start_time": "2019-05-18T12:44:33.688748Z"
    },
    "scrolled": true
   },
   "outputs": [
    {
     "name": "stdout",
     "output_type": "stream",
     "text": [
      "Test loss: 16.6285643610304\n",
      "Test accuracy: 0.8842257091942847\n"
     ]
    }
   ],
   "source": [
    "score = model.evaluate(x_test, y_test, verbose=0)\n",
    "print('Test loss:', score[0])\n",
    "print('Test accuracy:', score[1])"
   ]
  },
  {
   "cell_type": "code",
   "execution_count": 97,
   "metadata": {
    "ExecuteTime": {
     "end_time": "2019-05-18T12:44:53.519315Z",
     "start_time": "2019-05-18T12:44:53.511327Z"
    }
   },
   "outputs": [],
   "source": [
    "maxlen=60 # 最大句长\n",
    "predict_text = '''中华人民共和国国务院总理周恩来在外交部长陈毅的陪同下，\n",
    "连续访问了埃塞俄比亚等非洲10国以及阿尔巴尼亚'''"
   ]
  },
  {
   "cell_type": "code",
   "execution_count": 98,
   "metadata": {
    "ExecuteTime": {
     "end_time": "2019-05-18T12:44:56.245473Z",
     "start_time": "2019-05-18T12:44:54.880413Z"
    }
   },
   "outputs": [],
   "source": [
    "from keras.preprocessing.sequence import pad_sequences\n",
    "x = [word2id.get(w[0].lower(), 1) for w in predict_text]\n",
    "length = len(x)\n",
    "x = pad_sequences([x], maxlen, padding='post')\n",
    "model.load_weights('./crf_Boson.h5')\n",
    "raw = model.predict(x)[0][:length]\n",
    "result = [np.argmax(row) for row in raw]\n",
    "result_tags = [id2tag[i] for i in result]"
   ]
  },
  {
   "cell_type": "code",
   "execution_count": 99,
   "metadata": {
    "ExecuteTime": {
     "end_time": "2019-05-18T12:45:01.112803Z",
     "start_time": "2019-05-18T12:45:01.096793Z"
    }
   },
   "outputs": [
    {
     "name": "stdout",
     "output_type": "stream",
     "text": [
      " product_name: \n",
      " time: \n",
      " company_name: 阿尔巴尼亚 \n",
      " location: 埃塞俄比亚 \n",
      " person_name: 周恩来 陈毅 \n",
      " org_name: 中华人民共和国国务院\n"
     ]
    }
   ],
   "source": [
    "product_name, time, company_name, location, person_name, org_name = '', '', '', '', '', ''\n",
    "\n",
    "for s, t in zip(predict_text, result_tags):\n",
    "    if t in ('B_product_name', 'M_product_name', 'E_product_name'):\n",
    "        product_name += ' ' + s if (t == 'B_product_name') else s\n",
    "    if t in ('B_time', 'M_time', 'E_time'):\n",
    "        time += ' ' + s if (t == 'B_time') else s\n",
    "    if t in ('B_company_name', 'M_company_name', 'E_company_name'):\n",
    "        company_name += ' ' + s if (t == 'B_company_name') else s\n",
    "    if t in ('B_location', 'M_location', 'E_location'):\n",
    "        location += ' ' + s if (t == 'B_location') else s\n",
    "    if t in ('B_person_name', 'M_person_name', 'E_person_name'):\n",
    "        person_name += ' ' + s if (t == 'B_person_name') else s\n",
    "    if t in ('B_org_name', 'M_org_name', 'E_org_name'):\n",
    "        org_name += ' ' + s if (t == 'B_org_name') else s\n",
    "\n",
    "print(' product_name:' + product_name, '\\n',\n",
    "      'time:' + time, '\\n',\n",
    "      'company_name:' + company_name, '\\n',\n",
    "      'location:' + location, '\\n',\n",
    "      'person_name:' + person_name, '\\n',\n",
    "      'org_name:' + org_name)"
   ]
  }
 ],
 "metadata": {
  "kernelspec": {
   "display_name": "Python 3",
   "language": "python",
   "name": "python3"
  },
  "language_info": {
   "codemirror_mode": {
    "name": "ipython",
    "version": 3
   },
   "file_extension": ".py",
   "mimetype": "text/x-python",
   "name": "python",
   "nbconvert_exporter": "python",
   "pygments_lexer": "ipython3",
   "version": "3.6.8"
  },
  "toc": {
   "base_numbering": 1,
   "nav_menu": {},
   "number_sections": true,
   "sideBar": true,
   "skip_h1_title": false,
   "title_cell": "Table of Contents",
   "title_sidebar": "Contents",
   "toc_cell": false,
   "toc_position": {},
   "toc_section_display": true,
   "toc_window_display": false
  },
  "varInspector": {
   "cols": {
    "lenName": 16,
    "lenType": 16,
    "lenVar": 40
   },
   "kernels_config": {
    "python": {
     "delete_cmd_postfix": "",
     "delete_cmd_prefix": "del ",
     "library": "var_list.py",
     "varRefreshCmd": "print(var_dic_list())"
    },
    "r": {
     "delete_cmd_postfix": ") ",
     "delete_cmd_prefix": "rm(",
     "library": "var_list.r",
     "varRefreshCmd": "cat(var_dic_list()) "
    }
   },
   "types_to_exclude": [
    "module",
    "function",
    "builtin_function_or_method",
    "instance",
    "_Feature"
   ],
   "window_display": false
  }
 },
 "nbformat": 4,
 "nbformat_minor": 2
}
