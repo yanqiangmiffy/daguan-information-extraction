{
 "cells": [
  {
   "cell_type": "code",
   "execution_count": 89,
   "metadata": {
    "ExecuteTime": {
     "end_time": "2019-05-18T11:58:35.929510Z",
     "start_time": "2019-05-18T11:58:35.921522Z"
    }
   },
   "outputs": [],
   "source": [
    "import pickle\n",
    "import pdb\n",
    "import codecs\n",
    "import re\n",
    "import sys\n",
    "import math\n",
    "import numpy as np\n",
    "from keras.preprocessing.sequence import pad_sequences"
   ]
  },
  {
   "cell_type": "code",
   "execution_count": 79,
   "metadata": {
    "ExecuteTime": {
     "end_time": "2019-05-18T11:06:11.680557Z",
     "start_time": "2019-05-18T11:06:11.628624Z"
    }
   },
   "outputs": [
    {
     "name": "stdout",
     "output_type": "stream",
     "text": [
      "train len: 24271\n",
      "valid len: 6068\n",
      "test len: 7585\n",
      "word2id len 3917\n",
      "Creating the data generator ...\n"
     ]
    }
   ],
   "source": [
    "with open('../renmindata.pkl', 'rb') as inp:\n",
    "\tword2id = pickle.load(inp)\n",
    "\tid2word = pickle.load(inp)\n",
    "\ttag2id = pickle.load(inp)\n",
    "\tid2tag = pickle.load(inp)\n",
    "\tx_train = pickle.load(inp)\n",
    "\ty_train = pickle.load(inp)\n",
    "\tx_test = pickle.load(inp)\n",
    "\ty_test = pickle.load(inp)\n",
    "\tx_valid = pickle.load(inp)\n",
    "\ty_valid = pickle.load(inp)\n",
    "print(\"train len:\",len(x_train))\n",
    "print(\"valid len:\",len(x_valid))\n",
    "print(\"test len:\",len(x_test))\n",
    "print(\"word2id len\", len(word2id))\n",
    "print('Creating the data generator ...')"
   ]
  },
  {
   "cell_type": "code",
   "execution_count": 80,
   "metadata": {
    "ExecuteTime": {
     "end_time": "2019-05-18T11:06:15.657666Z",
     "start_time": "2019-05-18T11:06:15.649677Z"
    }
   },
   "outputs": [],
   "source": [
    "y_train = np.expand_dims(y_train , 2)\n",
    "y_valid = np.expand_dims(y_valid , 2)\n",
    "y_test = np.expand_dims(y_test , 2)"
   ]
  },
  {
   "cell_type": "code",
   "execution_count": 81,
   "metadata": {
    "ExecuteTime": {
     "end_time": "2019-05-18T11:06:16.761175Z",
     "start_time": "2019-05-18T11:06:16.753188Z"
    }
   },
   "outputs": [
    {
     "data": {
      "text/plain": [
       "((24271, 60), (24271, 60, 1))"
      ]
     },
     "execution_count": 81,
     "metadata": {},
     "output_type": "execute_result"
    }
   ],
   "source": [
    "x_train.shape , y_train.shape"
   ]
  },
  {
   "cell_type": "code",
   "execution_count": 82,
   "metadata": {
    "ExecuteTime": {
     "end_time": "2019-05-18T11:06:17.825002Z",
     "start_time": "2019-05-18T11:06:17.817013Z"
    }
   },
   "outputs": [],
   "source": [
    "from keras.models import Sequential\n",
    "from keras.layers import Embedding, Bidirectional, LSTM\n",
    "from keras_contrib.layers import CRF\n",
    "import process_data\n",
    "import pickle\n",
    "\n",
    "EMBED_DIM = 200\n",
    "BiRNN_UNITS = 200"
   ]
  },
  {
   "cell_type": "code",
   "execution_count": 83,
   "metadata": {
    "ExecuteTime": {
     "end_time": "2019-05-18T11:06:20.622541Z",
     "start_time": "2019-05-18T11:06:18.857386Z"
    }
   },
   "outputs": [
    {
     "name": "stdout",
     "output_type": "stream",
     "text": [
      "_________________________________________________________________\n",
      "Layer (type)                 Output Shape              Param #   \n",
      "=================================================================\n",
      "embedding_4 (Embedding)      (None, None, 200)         783400    \n",
      "_________________________________________________________________\n",
      "bidirectional_4 (Bidirection (None, None, 200)         240800    \n",
      "_________________________________________________________________\n",
      "crf_4 (CRF)                  (None, None, 11)          2354      \n",
      "=================================================================\n",
      "Total params: 1,026,554\n",
      "Trainable params: 1,026,554\n",
      "Non-trainable params: 0\n",
      "_________________________________________________________________\n"
     ]
    }
   ],
   "source": [
    "model = Sequential()\n",
    "model.add(Embedding(len(word2id), EMBED_DIM, mask_zero=True))  # Random embedding\n",
    "model.add(Bidirectional(LSTM(BiRNN_UNITS // 2, return_sequences=True)))\n",
    "crf = CRF(len(tag2id), sparse_target=True)\n",
    "model.add(crf)\n",
    "model.summary()\n",
    "model.compile('adam', loss=crf.loss_function, metrics=[crf.accuracy])"
   ]
  },
  {
   "cell_type": "code",
   "execution_count": 84,
   "metadata": {
    "ExecuteTime": {
     "end_time": "2019-05-18T11:47:04.347809Z",
     "start_time": "2019-05-18T11:06:21.793272Z"
    }
   },
   "outputs": [
    {
     "name": "stdout",
     "output_type": "stream",
     "text": [
      "Train on 24271 samples, validate on 6068 samples\n",
      "Epoch 1/10\n",
      "24271/24271 [==============================] - 248s 10ms/step - loss: 15.5162 - crf_viterbi_accuracy: 0.8751 - val_loss: 14.9057 - val_crf_viterbi_accuracy: 0.9356\n",
      "Epoch 2/10\n",
      "24271/24271 [==============================] - 247s 10ms/step - loss: 15.2213 - crf_viterbi_accuracy: 0.9483 - val_loss: 14.8583 - val_crf_viterbi_accuracy: 0.9486\n",
      "Epoch 3/10\n",
      "24271/24271 [==============================] - 252s 10ms/step - loss: 15.1805 - crf_viterbi_accuracy: 0.9620 - val_loss: 14.8422 - val_crf_viterbi_accuracy: 0.9524\n",
      "Epoch 4/10\n",
      "24271/24271 [==============================] - 245s 10ms/step - loss: 15.1627 - crf_viterbi_accuracy: 0.9714 - val_loss: 14.8381 - val_crf_viterbi_accuracy: 0.9510\n",
      "Epoch 5/10\n",
      "24271/24271 [==============================] - 245s 10ms/step - loss: 15.1524 - crf_viterbi_accuracy: 0.9771 - val_loss: 14.8340 - val_crf_viterbi_accuracy: 0.9549\n",
      "Epoch 6/10\n",
      "24271/24271 [==============================] - 243s 10ms/step - loss: 15.1457 - crf_viterbi_accuracy: 0.9826 - val_loss: 14.8352 - val_crf_viterbi_accuracy: 0.9518\n",
      "Epoch 7/10\n",
      "24271/24271 [==============================] - 249s 10ms/step - loss: 15.1414 - crf_viterbi_accuracy: 0.9867 - val_loss: 14.8373 - val_crf_viterbi_accuracy: 0.9563\n",
      "Epoch 8/10\n",
      "24271/24271 [==============================] - 231s 10ms/step - loss: 15.1384 - crf_viterbi_accuracy: 0.9895 - val_loss: 14.8367 - val_crf_viterbi_accuracy: 0.9581\n",
      "Epoch 9/10\n",
      "24271/24271 [==============================] - 243s 10ms/step - loss: 15.1367 - crf_viterbi_accuracy: 0.9915 - val_loss: 14.8441 - val_crf_viterbi_accuracy: 0.9535\n",
      "Epoch 10/10\n",
      "24271/24271 [==============================] - 236s 10ms/step - loss: 15.1353 - crf_viterbi_accuracy: 0.9936 - val_loss: 14.8427 - val_crf_viterbi_accuracy: 0.9565\n"
     ]
    }
   ],
   "source": [
    "EPOCHS = 10\n",
    "# train model\n",
    "model.fit(x_train , y_train , batch_size=32 , epochs=EPOCHS , validation_data=[x_valid, y_valid])\n",
    "model.save('./crf_renmin.h5')"
   ]
  },
  {
   "cell_type": "code",
   "execution_count": 85,
   "metadata": {
    "ExecuteTime": {
     "end_time": "2019-05-18T11:54:49.337274Z",
     "start_time": "2019-05-18T11:54:29.731098Z"
    }
   },
   "outputs": [
    {
     "name": "stdout",
     "output_type": "stream",
     "text": [
      "Test loss: 14.920771443883133\n",
      "Test accuracy: 0.9577522348084573\n"
     ]
    }
   ],
   "source": [
    "score = model.evaluate(x_test, y_test, verbose=0)\n",
    "print('Test loss:', score[0])\n",
    "print('Test accuracy:', score[1])"
   ]
  },
  {
   "cell_type": "code",
   "execution_count": 86,
   "metadata": {
    "ExecuteTime": {
     "end_time": "2019-05-18T11:55:08.413531Z",
     "start_time": "2019-05-18T11:55:08.401548Z"
    }
   },
   "outputs": [],
   "source": [
    "def process_data(data, maxlen=60): # 预测数据处理\n",
    "    x = [word2id.get(w[0].lower(), 1) for w in data]\n",
    "    length = len(x)\n",
    "    x = pad_sequences([x], maxlen, padding='post')  # 右补齐\n",
    "    return x, length"
   ]
  },
  {
   "cell_type": "code",
   "execution_count": 93,
   "metadata": {
    "ExecuteTime": {
     "end_time": "2019-05-18T12:24:37.460637Z",
     "start_time": "2019-05-18T12:24:37.388735Z"
    }
   },
   "outputs": [
    {
     "name": "stdout",
     "output_type": "stream",
     "text": [
      " organzation: 中华人民共和国国务院 \n",
      " person: 周恩来 陈毅 \n",
      " location: 埃塞俄比亚 非洲 阿尔巴尼亚 \n",
      "\n"
     ]
    }
   ],
   "source": [
    "predict_text = '''中华人民共和国国务院总理周恩来在外交部长陈毅的陪同下，\n",
    "连续访问了埃塞俄比亚等非洲10国以及阿尔巴尼亚'''\n",
    "str, length = process_data(predict_text)\n",
    "model.load_weights('./crf2.h5')\n",
    "raw = model.predict(str)[0][:length]\n",
    "result = [np.argmax(row) for row in raw]\n",
    "result_tags = [id2tag[i] for i in result]\n",
    "\n",
    "nt, nr, ns = '', '', ''\n",
    "\n",
    "for s, t in zip(predict_text, result_tags):\n",
    "    if t in ('B_nt', 'M_nt', 'E_nt'):\n",
    "        nt += ' ' + s if (t == 'B_nt') else s\n",
    "    if t in ('B_nr', 'M_nr', 'E_nr'):\n",
    "        nr += ' ' + s if (t == 'B_nr') else s\n",
    "    if t in ('B_ns', 'M_ns', 'E_ns'):\n",
    "        ns += ' ' + s if (t == 'B_ns') else s\n",
    "\n",
    "print(' organzation:' + nt, '\\n',\n",
    "      'person:' + nr, '\\n',\n",
    "      'location:' + ns, '\\n',)"
   ]
  }
 ],
 "metadata": {
  "kernelspec": {
   "display_name": "Python 3",
   "language": "python",
   "name": "python3"
  },
  "language_info": {
   "codemirror_mode": {
    "name": "ipython",
    "version": 3
   },
   "file_extension": ".py",
   "mimetype": "text/x-python",
   "name": "python",
   "nbconvert_exporter": "python",
   "pygments_lexer": "ipython3",
   "version": "3.6.8"
  },
  "toc": {
   "base_numbering": 1,
   "nav_menu": {},
   "number_sections": true,
   "sideBar": true,
   "skip_h1_title": false,
   "title_cell": "Table of Contents",
   "title_sidebar": "Contents",
   "toc_cell": false,
   "toc_position": {},
   "toc_section_display": true,
   "toc_window_display": false
  },
  "varInspector": {
   "cols": {
    "lenName": 16,
    "lenType": 16,
    "lenVar": 40
   },
   "kernels_config": {
    "python": {
     "delete_cmd_postfix": "",
     "delete_cmd_prefix": "del ",
     "library": "var_list.py",
     "varRefreshCmd": "print(var_dic_list())"
    },
    "r": {
     "delete_cmd_postfix": ") ",
     "delete_cmd_prefix": "rm(",
     "library": "var_list.r",
     "varRefreshCmd": "cat(var_dic_list()) "
    }
   },
   "types_to_exclude": [
    "module",
    "function",
    "builtin_function_or_method",
    "instance",
    "_Feature"
   ],
   "window_display": false
  }
 },
 "nbformat": 4,
 "nbformat_minor": 2
}
