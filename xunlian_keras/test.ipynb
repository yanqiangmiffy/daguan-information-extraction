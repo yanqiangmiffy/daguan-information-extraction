{
 "cells": [
  {
   "cell_type": "code",
   "execution_count": 31,
   "metadata": {
    "ExecuteTime": {
     "end_time": "2019-05-18T04:04:16.846867Z",
     "start_time": "2019-05-18T04:04:10.245015Z"
    }
   },
   "outputs": [
    {
     "name": "stdout",
     "output_type": "stream",
     "text": [
      "_________________________________________________________________\n",
      "Layer (type)                 Output Shape              Param #   \n",
      "=================================================================\n",
      "embedding_2 (Embedding)      (None, None, 200)         851600    \n",
      "_________________________________________________________________\n",
      "bidirectional_2 (Bidirection (None, None, 200)         240800    \n",
      "_________________________________________________________________\n",
      "crf_2 (CRF)                  (None, None, 7)           1470      \n",
      "=================================================================\n",
      "Total params: 1,093,870\n",
      "Trainable params: 1,093,870\n",
      "Non-trainable params: 0\n",
      "_________________________________________________________________\n"
     ]
    },
    {
     "name": "stderr",
     "output_type": "stream",
     "text": [
      "D:\\Anaconda\\envs\\tfenv\\lib\\site-packages\\keras_contrib\\layers\\crf.py:346: UserWarning: CRF.loss_function is deprecated and it might be removed in the future. Please use losses.crf_loss instead.\n",
      "  warnings.warn('CRF.loss_function is deprecated '\n",
      "D:\\Anaconda\\envs\\tfenv\\lib\\site-packages\\keras_contrib\\layers\\crf.py:353: UserWarning: CRF.accuracy is deprecated and it might be removed in the future. Please use metrics.crf_accuracy\n",
      "  warnings.warn('CRF.accuracy is deprecated and it '\n"
     ]
    }
   ],
   "source": [
    "import bilsm_crf_model\n",
    "\n",
    "EPOCHS = 10\n",
    "model, (train_x, train_y), (test_x, test_y) = bilsm_crf_model.create_model()"
   ]
  },
  {
   "cell_type": "code",
   "execution_count": 32,
   "metadata": {
    "ExecuteTime": {
     "end_time": "2019-05-18T06:09:02.617827Z",
     "start_time": "2019-05-18T04:04:59.027075Z"
    }
   },
   "outputs": [
    {
     "name": "stdout",
     "output_type": "stream",
     "text": [
      "Train on 50658 samples, validate on 4631 samples\n",
      "Epoch 1/10\n",
      "50658/50658 [==============================] - 764s 15ms/step - loss: 4.0580 - crf_viterbi_accuracy: 0.9526 - val_loss: 7.8845 - val_crf_viterbi_accuracy: 0.9698\n",
      "Epoch 2/10\n",
      "50658/50658 [==============================] - 747s 15ms/step - loss: 3.9707 - crf_viterbi_accuracy: 0.9781 - val_loss: 7.8648 - val_crf_viterbi_accuracy: 0.9729\n",
      "Epoch 3/10\n",
      "50658/50658 [==============================] - 779s 15ms/step - loss: 3.9577 - crf_viterbi_accuracy: 0.9841 - val_loss: 7.8596 - val_crf_viterbi_accuracy: 0.9761\n",
      "Epoch 4/10\n",
      "50658/50658 [==============================] - 752s 15ms/step - loss: 3.9513 - crf_viterbi_accuracy: 0.9881 - val_loss: 7.8595 - val_crf_viterbi_accuracy: 0.9780\n",
      "Epoch 5/10\n",
      "50658/50658 [==============================] - 771s 15ms/step - loss: 3.9473 - crf_viterbi_accuracy: 0.9910 - val_loss: 7.8610 - val_crf_viterbi_accuracy: 0.9794\n",
      "Epoch 6/10\n",
      "50658/50658 [==============================] - 722s 14ms/step - loss: 3.9444 - crf_viterbi_accuracy: 0.9933 - val_loss: 7.8621 - val_crf_viterbi_accuracy: 0.9790\n",
      "Epoch 7/10\n",
      "50658/50658 [==============================] - 678s 13ms/step - loss: 3.9423 - crf_viterbi_accuracy: 0.9951 - val_loss: 7.8646 - val_crf_viterbi_accuracy: 0.9806\n",
      "Epoch 8/10\n",
      "50658/50658 [==============================] - 658s 13ms/step - loss: 3.9410 - crf_viterbi_accuracy: 0.9964 - val_loss: 7.8661 - val_crf_viterbi_accuracy: 0.9804\n",
      "Epoch 9/10\n",
      "50658/50658 [==============================] - 802s 16ms/step - loss: 3.9403 - crf_viterbi_accuracy: 0.9971 - val_loss: 7.8731 - val_crf_viterbi_accuracy: 0.9770\n",
      "Epoch 10/10\n",
      "50658/50658 [==============================] - 765s 15ms/step - loss: 3.9395 - crf_viterbi_accuracy: 0.9979 - val_loss: 7.8741 - val_crf_viterbi_accuracy: 0.9779\n"
     ]
    }
   ],
   "source": [
    "# train model\n",
    "model.fit(train_x, train_y,batch_size=16,epochs=EPOCHS, validation_data=[test_x, test_y])\n",
    "model.save('./crf.h5')"
   ]
  },
  {
   "cell_type": "code",
   "execution_count": 33,
   "metadata": {
    "ExecuteTime": {
     "end_time": "2019-05-18T06:17:21.398826Z",
     "start_time": "2019-05-18T06:17:07.271275Z"
    }
   },
   "outputs": [
    {
     "name": "stdout",
     "output_type": "stream",
     "text": [
      "_________________________________________________________________\n",
      "Layer (type)                 Output Shape              Param #   \n",
      "=================================================================\n",
      "embedding_3 (Embedding)      (None, None, 200)         851600    \n",
      "_________________________________________________________________\n",
      "bidirectional_3 (Bidirection (None, None, 200)         240800    \n",
      "_________________________________________________________________\n",
      "crf_3 (CRF)                  (None, None, 7)           1470      \n",
      "=================================================================\n",
      "Total params: 1,093,870\n",
      "Trainable params: 1,093,870\n",
      "Non-trainable params: 0\n",
      "_________________________________________________________________\n",
      "['person: 周恩来 陈毅', 'location: 埃塞俄比亚 非洲 阿尔巴尼亚', 'organzation: 中华人民共和国国务院 外交部']\n"
     ]
    }
   ],
   "source": [
    "import bilsm_crf_model\n",
    "import process_data\n",
    "import numpy as np\n",
    "\n",
    "model, (vocab, chunk_tags) = bilsm_crf_model.create_model(train=False)\n",
    "predict_text = '中华人民共和国国务院总理周恩来在外交部长陈毅的陪同下，连续访问了埃塞俄比亚等非洲10国以及阿尔巴尼亚'\n",
    "str, length = process_data.process_data(predict_text, vocab)\n",
    "model.load_weights('./crf.h5')\n",
    "raw = model.predict(str)[0][-length:]\n",
    "result = [np.argmax(row) for row in raw]\n",
    "result_tags = [chunk_tags[i] for i in result]\n",
    "\n",
    "per, loc, org = '', '', ''\n",
    "\n",
    "for s, t in zip(predict_text, result_tags):\n",
    "    if t in ('B-PER', 'I-PER'):\n",
    "        per += ' ' + s if (t == 'B-PER') else s\n",
    "    if t in ('B-ORG', 'I-ORG'):\n",
    "        org += ' ' + s if (t == 'B-ORG') else s\n",
    "    if t in ('B-LOC', 'I-LOC'):\n",
    "        loc += ' ' + s if (t == 'B-LOC') else s\n",
    "\n",
    "print(['person:' + per, 'location:' + loc, 'organzation:' + org])"
   ]
  },
  {
   "cell_type": "code",
   "execution_count": null,
   "metadata": {},
   "outputs": [],
   "source": []
  }
 ],
 "metadata": {
  "kernelspec": {
   "display_name": "Python 3",
   "language": "python",
   "name": "python3"
  },
  "language_info": {
   "codemirror_mode": {
    "name": "ipython",
    "version": 3
   },
   "file_extension": ".py",
   "mimetype": "text/x-python",
   "name": "python",
   "nbconvert_exporter": "python",
   "pygments_lexer": "ipython3",
   "version": "3.6.8"
  },
  "toc": {
   "base_numbering": 1,
   "nav_menu": {},
   "number_sections": true,
   "sideBar": true,
   "skip_h1_title": false,
   "title_cell": "Table of Contents",
   "title_sidebar": "Contents",
   "toc_cell": false,
   "toc_position": {},
   "toc_section_display": true,
   "toc_window_display": false
  },
  "varInspector": {
   "cols": {
    "lenName": 16,
    "lenType": 16,
    "lenVar": 40
   },
   "kernels_config": {
    "python": {
     "delete_cmd_postfix": "",
     "delete_cmd_prefix": "del ",
     "library": "var_list.py",
     "varRefreshCmd": "print(var_dic_list())"
    },
    "r": {
     "delete_cmd_postfix": ") ",
     "delete_cmd_prefix": "rm(",
     "library": "var_list.r",
     "varRefreshCmd": "cat(var_dic_list()) "
    }
   },
   "types_to_exclude": [
    "module",
    "function",
    "builtin_function_or_method",
    "instance",
    "_Feature"
   ],
   "window_display": false
  }
 },
 "nbformat": 4,
 "nbformat_minor": 2
}
